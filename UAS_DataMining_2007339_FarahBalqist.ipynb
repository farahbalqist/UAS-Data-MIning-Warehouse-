{
 "cells": [
  {
   "cell_type": "markdown",
   "id": "6c0533eb",
   "metadata": {},
   "source": [
    "# Ujian Akhir Semester Data Mining & Warehouse\n",
    "\n",
    "#### Nama  : Farah Balqist\n",
    "#### NIM : 2007339\n",
    "#### Kelas : Ilmu Komputer C2\n",
    "#### Tanggal : 3 Januari 2023 "
   ]
  },
  {
   "cell_type": "markdown",
   "id": "5915ad91",
   "metadata": {},
   "source": [
    "## Dataset \n",
    "link dataset : https://drive.google.com/file/d/1vv7YjmjVYdlYrm5tmsLbckNQNXi5afMn/view?usp=share_link"
   ]
  },
  {
   "cell_type": "markdown",
   "id": "78855792",
   "metadata": {},
   "source": [
    "dalam task ini memakai dataset melek_huruf_diatas15.csv karena salah satu dimensi PMI yaitu adalah pengetahuan dan standar hidup layak yang memiliki keterhubungan dengan melek huruf"
   ]
  },
  {
   "cell_type": "markdown",
   "id": "0bdb9205",
   "metadata": {},
   "source": [
    "PMI dapat dihitung dengan data harapan hidup, rata-rata lama sekolah, dan pengeluaran per kapita."
   ]
  },
  {
   "cell_type": "markdown",
   "id": "5dfe944b",
   "metadata": {},
   "source": [
    "Kategori PMI :\n",
    "\n",
    "<60 : sangat rendah\n",
    "60 < pmi < 70 : sedang\n",
    "70 < pmi < 80 : rendah\n",
    ">80 : sangat tinggi"
   ]
  },
  {
   "cell_type": "markdown",
   "id": "2d5ee429",
   "metadata": {},
   "source": [
    "Tugasnya adalah memprediksi tingkat PMI per provinsi"
   ]
  },
  {
   "cell_type": "markdown",
   "id": "2e90de9c",
   "metadata": {},
   "source": [
    "Lakukan EDA, Praproses, dan buat model untuk memprediksi kategori_pmi (ada di pmi.csv)"
   ]
  },
  {
   "cell_type": "markdown",
   "id": "98d1145a",
   "metadata": {},
   "source": [
    "## Load Dataset"
   ]
  },
  {
   "cell_type": "markdown",
   "id": "6ddb4220",
   "metadata": {},
   "source": [
    "### Import Library"
   ]
  },
  {
   "cell_type": "code",
   "execution_count": 1,
   "id": "d348da72",
   "metadata": {},
   "outputs": [],
   "source": [
    "%matplotlib inline\n",
    "import numpy as np\n",
    "import pandas as pd\n",
    "import matplotlib.pyplot as plt\n",
    "import seaborn as sns"
   ]
  },
  {
   "cell_type": "markdown",
   "id": "77230ae2",
   "metadata": {},
   "source": [
    "### Load file csv"
   ]
  },
  {
   "cell_type": "code",
   "execution_count": 2,
   "id": "d894da5e",
   "metadata": {},
   "outputs": [],
   "source": [
    "df = pd.read_csv(\"C:\\\\Users\\\\Lenovo\\\\datmin python\\\\uas\\\\melek_huruf_diatas15.csv\")"
   ]
  },
  {
   "cell_type": "code",
   "execution_count": 3,
   "id": "60f35ae6",
   "metadata": {
    "scrolled": false
   },
   "outputs": [
    {
     "data": {
      "text/html": [
       "<div>\n",
       "<style scoped>\n",
       "    .dataframe tbody tr th:only-of-type {\n",
       "        vertical-align: middle;\n",
       "    }\n",
       "\n",
       "    .dataframe tbody tr th {\n",
       "        vertical-align: top;\n",
       "    }\n",
       "\n",
       "    .dataframe thead th {\n",
       "        text-align: right;\n",
       "    }\n",
       "</style>\n",
       "<table border=\"1\" class=\"dataframe\">\n",
       "  <thead>\n",
       "    <tr style=\"text-align: right;\">\n",
       "      <th></th>\n",
       "      <th>prov</th>\n",
       "      <th>tahun</th>\n",
       "      <th>melek_huruf_diatas15</th>\n",
       "    </tr>\n",
       "  </thead>\n",
       "  <tbody>\n",
       "    <tr>\n",
       "      <th>0</th>\n",
       "      <td>ACEH</td>\n",
       "      <td>2022</td>\n",
       "      <td>98.25</td>\n",
       "    </tr>\n",
       "    <tr>\n",
       "      <th>1</th>\n",
       "      <td>SUMATERA UTARA</td>\n",
       "      <td>2022</td>\n",
       "      <td>99.11</td>\n",
       "    </tr>\n",
       "    <tr>\n",
       "      <th>2</th>\n",
       "      <td>SUMATERA BARAT</td>\n",
       "      <td>2022</td>\n",
       "      <td>99.29</td>\n",
       "    </tr>\n",
       "    <tr>\n",
       "      <th>3</th>\n",
       "      <td>RIAU</td>\n",
       "      <td>2022</td>\n",
       "      <td>99.18</td>\n",
       "    </tr>\n",
       "    <tr>\n",
       "      <th>4</th>\n",
       "      <td>JAMBI</td>\n",
       "      <td>2022</td>\n",
       "      <td>98.1</td>\n",
       "    </tr>\n",
       "  </tbody>\n",
       "</table>\n",
       "</div>"
      ],
      "text/plain": [
       "             prov  tahun melek_huruf_diatas15\n",
       "0            ACEH   2022                98.25\n",
       "1  SUMATERA UTARA   2022                99.11\n",
       "2  SUMATERA BARAT   2022                99.29\n",
       "3            RIAU   2022                99.18\n",
       "4           JAMBI   2022                 98.1"
      ]
     },
     "execution_count": 3,
     "metadata": {},
     "output_type": "execute_result"
    }
   ],
   "source": [
    "# tampilkan baris 5 pertama\n",
    "df.head(5)"
   ]
  },
  {
   "cell_type": "code",
   "execution_count": 4,
   "id": "ed1bc423",
   "metadata": {},
   "outputs": [
    {
     "name": "stdout",
     "output_type": "stream",
     "text": [
      "<class 'pandas.core.frame.DataFrame'>\n",
      "RangeIndex: 315 entries, 0 to 314\n",
      "Data columns (total 3 columns):\n",
      " #   Column                Non-Null Count  Dtype \n",
      "---  ------                --------------  ----- \n",
      " 0   prov                  315 non-null    object\n",
      " 1   tahun                 315 non-null    int64 \n",
      " 2   melek_huruf_diatas15  315 non-null    object\n",
      "dtypes: int64(1), object(2)\n",
      "memory usage: 7.5+ KB\n"
     ]
    }
   ],
   "source": [
    "#menampilkan data frame\n",
    "df.info()"
   ]
  },
  {
   "cell_type": "code",
   "execution_count": 5,
   "id": "14db4fa7",
   "metadata": {},
   "outputs": [
    {
     "data": {
      "text/plain": [
       "prov                    0\n",
       "tahun                   0\n",
       "melek_huruf_diatas15    0\n",
       "dtype: int64"
      ]
     },
     "execution_count": 5,
     "metadata": {},
     "output_type": "execute_result"
    }
   ],
   "source": [
    "#melihat jumlah data yang memiliki nilai null\n",
    "df.isnull().sum()"
   ]
  },
  {
   "cell_type": "markdown",
   "id": "e3616c04",
   "metadata": {},
   "source": [
    "## Cek apakah ada kolom yang isinya tidak sesuai"
   ]
  },
  {
   "cell_type": "markdown",
   "id": "2c0ae950",
   "metadata": {},
   "source": [
    "Di dalam data melek_huruf_diatas15.csv terdapat kolom melek_diatas15 yang salah satu isi datanya bervalue \"-\". Sehingga perlu diisi dengan nilai modus"
   ]
  },
  {
   "cell_type": "code",
   "execution_count": 6,
   "id": "d3aa34dc",
   "metadata": {},
   "outputs": [
    {
     "data": {
      "text/html": [
       "<div>\n",
       "<style scoped>\n",
       "    .dataframe tbody tr th:only-of-type {\n",
       "        vertical-align: middle;\n",
       "    }\n",
       "\n",
       "    .dataframe tbody tr th {\n",
       "        vertical-align: top;\n",
       "    }\n",
       "\n",
       "    .dataframe thead th {\n",
       "        text-align: right;\n",
       "    }\n",
       "</style>\n",
       "<table border=\"1\" class=\"dataframe\">\n",
       "  <thead>\n",
       "    <tr style=\"text-align: right;\">\n",
       "      <th></th>\n",
       "      <th>prov</th>\n",
       "      <th>tahun</th>\n",
       "      <th>melek_huruf_diatas15</th>\n",
       "    </tr>\n",
       "  </thead>\n",
       "  <tbody>\n",
       "    <tr>\n",
       "      <th>303</th>\n",
       "      <td>KALIMANTAN UTARA</td>\n",
       "      <td>2014</td>\n",
       "      <td>-</td>\n",
       "    </tr>\n",
       "  </tbody>\n",
       "</table>\n",
       "</div>"
      ],
      "text/plain": [
       "                 prov  tahun melek_huruf_diatas15\n",
       "303  KALIMANTAN UTARA   2014                    -"
      ]
     },
     "execution_count": 6,
     "metadata": {},
     "output_type": "execute_result"
    }
   ],
   "source": [
    "# buat variabel baru untuk menyimpan hasil kolom yang memiliki nilai \"-\"\n",
    "kolom_melek_huruf_diatas15 = df[df['melek_huruf_diatas15'] == '-']\n",
    "\n",
    "#tampilkan kolom yang mempunyai nilai '-'\n",
    "kolom_melek_huruf_diatas15"
   ]
  },
  {
   "cell_type": "markdown",
   "id": "4aab965b",
   "metadata": {},
   "source": [
    "Dapat dilihat bahwa kolom yang mengandung value '-' adalah provinsi Kalimantan Utara"
   ]
  },
  {
   "cell_type": "markdown",
   "id": "b65f29d6",
   "metadata": {},
   "source": [
    "## membuat variabel baru untuk menyimpan nilai modus"
   ]
  },
  {
   "cell_type": "code",
   "execution_count": 7,
   "id": "af93b516",
   "metadata": {},
   "outputs": [
    {
     "name": "stdout",
     "output_type": "stream",
     "text": [
      "0    98.75\n",
      "Name: melek_huruf_diatas15, dtype: object\n"
     ]
    }
   ],
   "source": [
    "modus_melek_huruf_diatas15 = df['melek_huruf_diatas15'].mode()\n",
    "\n",
    "#menampilkan nilai modus\n",
    "print(modus_melek_huruf_diatas15)"
   ]
  },
  {
   "cell_type": "markdown",
   "id": "a6478e84",
   "metadata": {},
   "source": [
    "## ganti value '-' dengan nilai modus"
   ]
  },
  {
   "cell_type": "code",
   "execution_count": 8,
   "id": "e686a5e4",
   "metadata": {},
   "outputs": [],
   "source": [
    "df.melek_huruf_diatas15 = df.melek_huruf_diatas15.str.replace('-', '98.75')"
   ]
  },
  {
   "cell_type": "code",
   "execution_count": 9,
   "id": "7143aa3a",
   "metadata": {},
   "outputs": [
    {
     "data": {
      "text/html": [
       "<div>\n",
       "<style scoped>\n",
       "    .dataframe tbody tr th:only-of-type {\n",
       "        vertical-align: middle;\n",
       "    }\n",
       "\n",
       "    .dataframe tbody tr th {\n",
       "        vertical-align: top;\n",
       "    }\n",
       "\n",
       "    .dataframe thead th {\n",
       "        text-align: right;\n",
       "    }\n",
       "</style>\n",
       "<table border=\"1\" class=\"dataframe\">\n",
       "  <thead>\n",
       "    <tr style=\"text-align: right;\">\n",
       "      <th></th>\n",
       "      <th>prov</th>\n",
       "      <th>tahun</th>\n",
       "      <th>melek_huruf_diatas15</th>\n",
       "    </tr>\n",
       "  </thead>\n",
       "  <tbody>\n",
       "    <tr>\n",
       "      <th>0</th>\n",
       "      <td>ACEH</td>\n",
       "      <td>2022</td>\n",
       "      <td>98.25</td>\n",
       "    </tr>\n",
       "    <tr>\n",
       "      <th>1</th>\n",
       "      <td>SUMATERA UTARA</td>\n",
       "      <td>2022</td>\n",
       "      <td>99.11</td>\n",
       "    </tr>\n",
       "    <tr>\n",
       "      <th>2</th>\n",
       "      <td>SUMATERA BARAT</td>\n",
       "      <td>2022</td>\n",
       "      <td>99.29</td>\n",
       "    </tr>\n",
       "    <tr>\n",
       "      <th>3</th>\n",
       "      <td>RIAU</td>\n",
       "      <td>2022</td>\n",
       "      <td>99.18</td>\n",
       "    </tr>\n",
       "    <tr>\n",
       "      <th>4</th>\n",
       "      <td>JAMBI</td>\n",
       "      <td>2022</td>\n",
       "      <td>98.1</td>\n",
       "    </tr>\n",
       "    <tr>\n",
       "      <th>...</th>\n",
       "      <td>...</td>\n",
       "      <td>...</td>\n",
       "      <td>...</td>\n",
       "    </tr>\n",
       "    <tr>\n",
       "      <th>300</th>\n",
       "      <td>KALIMANTAN TENGAH</td>\n",
       "      <td>2014</td>\n",
       "      <td>98.82</td>\n",
       "    </tr>\n",
       "    <tr>\n",
       "      <th>301</th>\n",
       "      <td>KALIMANTAN SELATAN</td>\n",
       "      <td>2014</td>\n",
       "      <td>98.19</td>\n",
       "    </tr>\n",
       "    <tr>\n",
       "      <th>302</th>\n",
       "      <td>KALIMANTAN TIMUR</td>\n",
       "      <td>2014</td>\n",
       "      <td>98.59</td>\n",
       "    </tr>\n",
       "    <tr>\n",
       "      <th>303</th>\n",
       "      <td>KALIMANTAN UTARA</td>\n",
       "      <td>2014</td>\n",
       "      <td>98.75</td>\n",
       "    </tr>\n",
       "    <tr>\n",
       "      <th>304</th>\n",
       "      <td>SULAWESI UTARA</td>\n",
       "      <td>2014</td>\n",
       "      <td>99.6</td>\n",
       "    </tr>\n",
       "  </tbody>\n",
       "</table>\n",
       "<p>305 rows × 3 columns</p>\n",
       "</div>"
      ],
      "text/plain": [
       "                   prov  tahun melek_huruf_diatas15\n",
       "0                  ACEH   2022                98.25\n",
       "1        SUMATERA UTARA   2022                99.11\n",
       "2        SUMATERA BARAT   2022                99.29\n",
       "3                  RIAU   2022                99.18\n",
       "4                 JAMBI   2022                 98.1\n",
       "..                  ...    ...                  ...\n",
       "300   KALIMANTAN TENGAH   2014                98.82\n",
       "301  KALIMANTAN SELATAN   2014                98.19\n",
       "302    KALIMANTAN TIMUR   2014                98.59\n",
       "303    KALIMANTAN UTARA   2014                98.75\n",
       "304      SULAWESI UTARA   2014                 99.6\n",
       "\n",
       "[305 rows x 3 columns]"
      ]
     },
     "execution_count": 9,
     "metadata": {},
     "output_type": "execute_result"
    }
   ],
   "source": [
    "#menampilkan isi kolom yang sudah diganti\n",
    "df.head(305)"
   ]
  },
  {
   "cell_type": "markdown",
   "id": "f3d2ffa2",
   "metadata": {},
   "source": [
    "Dapat dilihat bahwa presentase melek_huruf_diatas15 provinsi Kalimantan Utara pada tahun 2014 nilai '-' sudah diganti dengan nilai modusnya yaitu 98.75"
   ]
  },
  {
   "cell_type": "markdown",
   "id": "2aa0c4ae",
   "metadata": {},
   "source": [
    "## Exploratory Data Analysis"
   ]
  },
  {
   "cell_type": "markdown",
   "id": "64fcc978",
   "metadata": {},
   "source": [
    "melihat tahun yang paling banyak melek huruf diatas 15"
   ]
  },
  {
   "cell_type": "code",
   "execution_count": 10,
   "id": "593ed786",
   "metadata": {},
   "outputs": [
    {
     "data": {
      "text/plain": [
       "<AxesSubplot:xlabel='tahun', ylabel='count'>"
      ]
     },
     "execution_count": 10,
     "metadata": {},
     "output_type": "execute_result"
    },
    {
     "data": {
      "image/png": "[encoded data removed]",
      "text/plain": [
       "<Figure size 432x288 with 1 Axes>"
      ]
     },
     "metadata": {
      "needs_background": "light"
     },
     "output_type": "display_data"
    }
   ],
   "source": [
    "sns.countplot(x=\"tahun\", data=df)"
   ]
  },
  {
   "cell_type": "markdown",
   "id": "ba28bad6",
   "metadata": {},
   "source": [
    "setelah di plot, dapat dilihat bahwa jumlah tahun yang melek huruf adalah sama rata, hal ini mengindikasikan bahwa dari tahun 2014-2022 tidak mengalami penurunan "
   ]
  },
  {
   "cell_type": "markdown",
   "id": "c2e0c032",
   "metadata": {},
   "source": [
    "#### melihat 5 provinsi teratas yang memiliki jumlah melek huruf tertinggi"
   ]
  },
  {
   "cell_type": "code",
   "execution_count": 11,
   "id": "c1b5e62b",
   "metadata": {
    "scrolled": true
   },
   "outputs": [
    {
     "data": {
      "text/plain": [
       "Text(0.5, 1.0, 'Top 5 Provinsi')"
      ]
     },
     "execution_count": 11,
     "metadata": {},
     "output_type": "execute_result"
    },
    {
     "data": {
      "image/png": "[encoded data removed]",
      "text/plain": [
       "<Figure size 432x288 with 1 Axes>"
      ]
     },
     "metadata": {
      "needs_background": "light"
     },
     "output_type": "display_data"
    }
   ],
   "source": [
    "high_prov = df.sort_values(by=\"tahun\", ascending=False).head(5) \n",
    "sns.barplot(x='tahun', y='prov', data = high_prov).set_title('Top 5 Provinsi')"
   ]
  },
  {
   "cell_type": "markdown",
   "id": "ce58c243",
   "metadata": {},
   "source": [
    "dapat dilihat bahwa jumlah melek huruf sama setiap provinsi, sehingga tidak ada provinsi teratas yang memiliki jumlah melek huruf tertinggi"
   ]
  },
  {
   "cell_type": "markdown",
   "id": "92ad7a29",
   "metadata": {},
   "source": [
    "#### Melihat jumlah presentase melek_huruf_diatas15"
   ]
  },
  {
   "cell_type": "code",
   "execution_count": 12,
   "id": "29278470",
   "metadata": {},
   "outputs": [
    {
     "data": {
      "text/plain": [
       "<AxesSubplot:xlabel='melek_huruf_diatas15', ylabel='Count'>"
      ]
     },
     "execution_count": 12,
     "metadata": {},
     "output_type": "execute_result"
    },
    {
     "data": {
      "image/png": "[encoded data removed]",
      "text/plain": [
       "<Figure size 432x288 with 1 Axes>"
      ]
     },
     "metadata": {
      "needs_background": "light"
     },
     "output_type": "display_data"
    }
   ],
   "source": [
    "sns.histplot(data=df, x=\"melek_huruf_diatas15\")"
   ]
  },
  {
   "cell_type": "markdown",
   "id": "1dbebd0f",
   "metadata": {},
   "source": [
    "Dari histogram diatas dapat dilihat bahwa jumlah tertinggi presentase melek_huruf diatas15 adalah 6"
   ]
  },
  {
   "cell_type": "markdown",
   "id": "c28d2003",
   "metadata": {},
   "source": [
    "## Persiapan Dataset"
   ]
  },
  {
   "cell_type": "code",
   "execution_count": 13,
   "id": "60fb39b8",
   "metadata": {},
   "outputs": [],
   "source": [
    "#import library\n",
    "from sklearn import preprocessing\n",
    "from sklearn.model_selection import train_test_split"
   ]
  },
  {
   "cell_type": "code",
   "execution_count": 14,
   "id": "cd2c6f02",
   "metadata": {},
   "outputs": [],
   "source": [
    "#ambil kolom melek_huruf_diatas15 kemudian simpan di Y\n",
    "Y = (df.melek_huruf_diatas15)"
   ]
  },
  {
   "cell_type": "code",
   "execution_count": 15,
   "id": "38d51e96",
   "metadata": {},
   "outputs": [
    {
     "data": {
      "text/plain": [
       "0    98.25\n",
       "1    99.11\n",
       "2    99.29\n",
       "3    99.18\n",
       "4     98.1\n",
       "Name: melek_huruf_diatas15, dtype: object"
      ]
     },
     "execution_count": 15,
     "metadata": {},
     "output_type": "execute_result"
    }
   ],
   "source": [
    "Y.head()"
   ]
  },
  {
   "cell_type": "code",
   "execution_count": 16,
   "id": "c55d51c6",
   "metadata": {},
   "outputs": [],
   "source": [
    "# drop kolom prov kemudian simpan di X\n",
    "X = df.drop(\"prov\", axis=1) # axis = 1 (kolom)"
   ]
  },
  {
   "cell_type": "code",
   "execution_count": 17,
   "id": "1f20acb1",
   "metadata": {},
   "outputs": [
    {
     "data": {
      "text/html": [
       "<div>\n",
       "<style scoped>\n",
       "    .dataframe tbody tr th:only-of-type {\n",
       "        vertical-align: middle;\n",
       "    }\n",
       "\n",
       "    .dataframe tbody tr th {\n",
       "        vertical-align: top;\n",
       "    }\n",
       "\n",
       "    .dataframe thead th {\n",
       "        text-align: right;\n",
       "    }\n",
       "</style>\n",
       "<table border=\"1\" class=\"dataframe\">\n",
       "  <thead>\n",
       "    <tr style=\"text-align: right;\">\n",
       "      <th></th>\n",
       "      <th>tahun</th>\n",
       "      <th>melek_huruf_diatas15</th>\n",
       "    </tr>\n",
       "  </thead>\n",
       "  <tbody>\n",
       "    <tr>\n",
       "      <th>0</th>\n",
       "      <td>2022</td>\n",
       "      <td>98.25</td>\n",
       "    </tr>\n",
       "    <tr>\n",
       "      <th>1</th>\n",
       "      <td>2022</td>\n",
       "      <td>99.11</td>\n",
       "    </tr>\n",
       "    <tr>\n",
       "      <th>2</th>\n",
       "      <td>2022</td>\n",
       "      <td>99.29</td>\n",
       "    </tr>\n",
       "    <tr>\n",
       "      <th>3</th>\n",
       "      <td>2022</td>\n",
       "      <td>99.18</td>\n",
       "    </tr>\n",
       "    <tr>\n",
       "      <th>4</th>\n",
       "      <td>2022</td>\n",
       "      <td>98.1</td>\n",
       "    </tr>\n",
       "  </tbody>\n",
       "</table>\n",
       "</div>"
      ],
      "text/plain": [
       "   tahun melek_huruf_diatas15\n",
       "0   2022                98.25\n",
       "1   2022                99.11\n",
       "2   2022                99.29\n",
       "3   2022                99.18\n",
       "4   2022                 98.1"
      ]
     },
     "execution_count": 17,
     "metadata": {},
     "output_type": "execute_result"
    }
   ],
   "source": [
    "# menampilkan 5 teratas\n",
    "X.head()"
   ]
  },
  {
   "cell_type": "markdown",
   "id": "b7d65434",
   "metadata": {},
   "source": [
    "## Split Dataset"
   ]
  },
  {
   "cell_type": "code",
   "execution_count": 18,
   "id": "c84ec1a3",
   "metadata": {},
   "outputs": [],
   "source": [
    "X_train,X_test,Y_train,Y_test=train_test_split(X,Y,test_size=0.2,random_state=123)"
   ]
  },
  {
   "cell_type": "code",
   "execution_count": 19,
   "id": "55271152",
   "metadata": {},
   "outputs": [
    {
     "data": {
      "text/html": [
       "<div>\n",
       "<style scoped>\n",
       "    .dataframe tbody tr th:only-of-type {\n",
       "        vertical-align: middle;\n",
       "    }\n",
       "\n",
       "    .dataframe tbody tr th {\n",
       "        vertical-align: top;\n",
       "    }\n",
       "\n",
       "    .dataframe thead th {\n",
       "        text-align: right;\n",
       "    }\n",
       "</style>\n",
       "<table border=\"1\" class=\"dataframe\">\n",
       "  <thead>\n",
       "    <tr style=\"text-align: right;\">\n",
       "      <th></th>\n",
       "      <th>tahun</th>\n",
       "      <th>melek_huruf_diatas15</th>\n",
       "    </tr>\n",
       "  </thead>\n",
       "  <tbody>\n",
       "    <tr>\n",
       "      <th>206</th>\n",
       "      <td>2017</td>\n",
       "      <td>98.68</td>\n",
       "    </tr>\n",
       "    <tr>\n",
       "      <th>239</th>\n",
       "      <td>2016</td>\n",
       "      <td>92.75</td>\n",
       "    </tr>\n",
       "    <tr>\n",
       "      <th>53</th>\n",
       "      <td>2021</td>\n",
       "      <td>93.85</td>\n",
       "    </tr>\n",
       "    <tr>\n",
       "      <th>22</th>\n",
       "      <td>2022</td>\n",
       "      <td>98.97</td>\n",
       "    </tr>\n",
       "    <tr>\n",
       "      <th>265</th>\n",
       "      <td>2015</td>\n",
       "      <td>98.88</td>\n",
       "    </tr>\n",
       "    <tr>\n",
       "      <th>...</th>\n",
       "      <td>...</td>\n",
       "      <td>...</td>\n",
       "    </tr>\n",
       "    <tr>\n",
       "      <th>106</th>\n",
       "      <td>2019</td>\n",
       "      <td>99.15</td>\n",
       "    </tr>\n",
       "    <tr>\n",
       "      <th>83</th>\n",
       "      <td>2020</td>\n",
       "      <td>95.09</td>\n",
       "    </tr>\n",
       "    <tr>\n",
       "      <th>17</th>\n",
       "      <td>2022</td>\n",
       "      <td>88.97</td>\n",
       "    </tr>\n",
       "    <tr>\n",
       "      <th>230</th>\n",
       "      <td>2016</td>\n",
       "      <td>98.97</td>\n",
       "    </tr>\n",
       "    <tr>\n",
       "      <th>98</th>\n",
       "      <td>2020</td>\n",
       "      <td>98.75</td>\n",
       "    </tr>\n",
       "  </tbody>\n",
       "</table>\n",
       "<p>252 rows × 2 columns</p>\n",
       "</div>"
      ],
      "text/plain": [
       "     tahun melek_huruf_diatas15\n",
       "206   2017                98.68\n",
       "239   2016                92.75\n",
       "53    2021                93.85\n",
       "22    2022                98.97\n",
       "265   2015                98.88\n",
       "..     ...                  ...\n",
       "106   2019                99.15\n",
       "83    2020                95.09\n",
       "17    2022                88.97\n",
       "230   2016                98.97\n",
       "98    2020                98.75\n",
       "\n",
       "[252 rows x 2 columns]"
      ]
     },
     "execution_count": 19,
     "metadata": {},
     "output_type": "execute_result"
    }
   ],
   "source": [
    "# tampilkan X_train\n",
    "X_train"
   ]
  },
  {
   "cell_type": "code",
   "execution_count": 20,
   "id": "eea457d9",
   "metadata": {},
   "outputs": [
    {
     "data": {
      "text/html": [
       "<div>\n",
       "<style scoped>\n",
       "    .dataframe tbody tr th:only-of-type {\n",
       "        vertical-align: middle;\n",
       "    }\n",
       "\n",
       "    .dataframe tbody tr th {\n",
       "        vertical-align: top;\n",
       "    }\n",
       "\n",
       "    .dataframe thead th {\n",
       "        text-align: right;\n",
       "    }\n",
       "</style>\n",
       "<table border=\"1\" class=\"dataframe\">\n",
       "  <thead>\n",
       "    <tr style=\"text-align: right;\">\n",
       "      <th></th>\n",
       "      <th>tahun</th>\n",
       "      <th>melek_huruf_diatas15</th>\n",
       "    </tr>\n",
       "  </thead>\n",
       "  <tbody>\n",
       "    <tr>\n",
       "      <th>42</th>\n",
       "      <td>2021</td>\n",
       "      <td>97.28</td>\n",
       "    </tr>\n",
       "    <tr>\n",
       "      <th>11</th>\n",
       "      <td>2022</td>\n",
       "      <td>98.49</td>\n",
       "    </tr>\n",
       "    <tr>\n",
       "      <th>94</th>\n",
       "      <td>2020</td>\n",
       "      <td>99.79</td>\n",
       "    </tr>\n",
       "    <tr>\n",
       "      <th>114</th>\n",
       "      <td>2019</td>\n",
       "      <td>99.0</td>\n",
       "    </tr>\n",
       "    <tr>\n",
       "      <th>266</th>\n",
       "      <td>2015</td>\n",
       "      <td>98.21</td>\n",
       "    </tr>\n",
       "    <tr>\n",
       "      <th>...</th>\n",
       "      <td>...</td>\n",
       "      <td>...</td>\n",
       "    </tr>\n",
       "    <tr>\n",
       "      <th>75</th>\n",
       "      <td>2020</td>\n",
       "      <td>98.75</td>\n",
       "    </tr>\n",
       "    <tr>\n",
       "      <th>306</th>\n",
       "      <td>2014</td>\n",
       "      <td>91.26</td>\n",
       "    </tr>\n",
       "    <tr>\n",
       "      <th>30</th>\n",
       "      <td>2022</td>\n",
       "      <td>99.4</td>\n",
       "    </tr>\n",
       "    <tr>\n",
       "      <th>19</th>\n",
       "      <td>2022</td>\n",
       "      <td>93.96</td>\n",
       "    </tr>\n",
       "    <tr>\n",
       "      <th>79</th>\n",
       "      <td>2020</td>\n",
       "      <td>99.0</td>\n",
       "    </tr>\n",
       "  </tbody>\n",
       "</table>\n",
       "<p>63 rows × 2 columns</p>\n",
       "</div>"
      ],
      "text/plain": [
       "     tahun melek_huruf_diatas15\n",
       "42    2021                97.28\n",
       "11    2022                98.49\n",
       "94    2020                99.79\n",
       "114   2019                 99.0\n",
       "266   2015                98.21\n",
       "..     ...                  ...\n",
       "75    2020                98.75\n",
       "306   2014                91.26\n",
       "30    2022                 99.4\n",
       "19    2022                93.96\n",
       "79    2020                 99.0\n",
       "\n",
       "[63 rows x 2 columns]"
      ]
     },
     "execution_count": 20,
     "metadata": {},
     "output_type": "execute_result"
    }
   ],
   "source": [
    "# tampilkan X_test\n",
    "X_test"
   ]
  },
  {
   "cell_type": "code",
   "execution_count": 21,
   "id": "cd2c8300",
   "metadata": {},
   "outputs": [
    {
     "data": {
      "text/plain": [
       "206    98.68\n",
       "239    92.75\n",
       "53     93.85\n",
       "22     98.97\n",
       "265    98.88\n",
       "       ...  \n",
       "106    99.15\n",
       "83     95.09\n",
       "17     88.97\n",
       "230    98.97\n",
       "98     98.75\n",
       "Name: melek_huruf_diatas15, Length: 252, dtype: object"
      ]
     },
     "execution_count": 21,
     "metadata": {},
     "output_type": "execute_result"
    }
   ],
   "source": [
    "# tampilkan Y_train\n",
    "Y_train"
   ]
  },
  {
   "cell_type": "code",
   "execution_count": 22,
   "id": "a936d85f",
   "metadata": {},
   "outputs": [
    {
     "data": {
      "text/plain": [
       "42     97.28\n",
       "11     98.49\n",
       "94     99.79\n",
       "114     99.0\n",
       "266    98.21\n",
       "       ...  \n",
       "75     98.75\n",
       "306    91.26\n",
       "30      99.4\n",
       "19     93.96\n",
       "79      99.0\n",
       "Name: melek_huruf_diatas15, Length: 63, dtype: object"
      ]
     },
     "execution_count": 22,
     "metadata": {},
     "output_type": "execute_result"
    }
   ],
   "source": [
    "# tampilkan Y_test\n",
    "Y_test"
   ]
  },
  {
   "cell_type": "code",
   "execution_count": 23,
   "id": "abb8b1af",
   "metadata": {},
   "outputs": [],
   "source": [
    "# menyimpan kolom untuk keperluan prediksi\n",
    "import pickle\n",
    "with open('C:\\\\Users\\\\Lenovo\\\\datmin python\\\\uas\\\\melek_huruf_x_train_columns.pickle', 'wb') as fp:\n",
    "    pickle.dump(X_train.columns, fp)"
   ]
  },
  {
   "cell_type": "markdown",
   "id": "3a44c9b7",
   "metadata": {},
   "source": [
    "## Pembuatan Model"
   ]
  },
  {
   "cell_type": "markdown",
   "id": "e076ae0c",
   "metadata": {},
   "source": [
    "### Random Forest"
   ]
  },
  {
   "cell_type": "code",
   "execution_count": 24,
   "id": "0e357d08",
   "metadata": {},
   "outputs": [],
   "source": [
    "# import library\n",
    "from sklearn.ensemble import RandomForestClassifier\n",
    "from sklearn.metrics import classification_report\n",
    "from sklearn.metrics import accuracy_score"
   ]
  },
  {
   "cell_type": "code",
   "execution_count": 25,
   "id": "7e2f7aed",
   "metadata": {},
   "outputs": [
    {
     "name": "stdout",
     "output_type": "stream",
     "text": [
      "Akurasi 0.031746031746031744\n",
      "              precision    recall  f1-score   support\n",
      "\n",
      "       81.19       0.00      0.00      0.00         1\n",
      "       88.97       0.00      0.00      0.00         0\n",
      "       91.18       0.00      0.00      0.00         0\n",
      "       91.26       0.00      0.00      0.00         1\n",
      "       92.27       0.00      0.00      0.00         0\n",
      "        92.3       0.00      0.00      0.00         1\n",
      "       92.48       0.00      0.00      0.00         0\n",
      "       92.58       0.00      0.00      0.00         1\n",
      "       92.79       0.00      0.00      0.00         1\n",
      "       92.85       0.00      0.00      0.00         0\n",
      "        92.9       0.00      0.00      0.00         1\n",
      "       93.09       0.00      0.00      0.00         0\n",
      "       93.31       0.00      0.00      0.00         1\n",
      "       93.32       0.00      0.00      0.00         0\n",
      "       93.41       0.00      0.00      0.00         1\n",
      "       93.54       0.00      0.00      0.00         1\n",
      "       93.59       0.00      0.00      0.00         0\n",
      "       93.82       0.00      0.00      0.00         1\n",
      "       93.96       0.00      0.00      0.00         1\n",
      "       94.03       0.00      0.00      0.00         0\n",
      "       94.25       0.00      0.00      0.00         1\n",
      "       94.26       0.00      0.00      0.00         1\n",
      "       94.32       0.00      0.00      0.00         0\n",
      "       94.44       0.00      0.00      0.00         1\n",
      "       94.46       0.00      0.00      0.00         1\n",
      "       94.59       0.00      0.00      0.00         1\n",
      "       94.63       0.00      0.00      0.00         0\n",
      "       94.64       0.00      0.00      0.00         1\n",
      "       94.83       0.00      0.00      0.00         0\n",
      "       94.99       0.00      0.00      0.00         1\n",
      "        95.0       0.00      0.00      0.00         0\n",
      "       95.05       0.00      0.00      0.00         0\n",
      "       95.18       0.00      0.00      0.00         0\n",
      "       95.22       0.00      0.00      0.00         1\n",
      "       95.66       0.00      0.00      0.00         1\n",
      "       96.67       0.00      0.00      0.00         1\n",
      "       96.88       0.00      0.00      0.00         0\n",
      "       96.93       0.00      0.00      0.00         1\n",
      "       97.24       0.00      0.00      0.00         0\n",
      "       97.28       0.00      0.00      0.00         1\n",
      "       97.34       0.00      0.00      0.00         1\n",
      "       97.37       0.00      0.00      0.00         0\n",
      "       97.42       0.00      0.00      0.00         1\n",
      "       97.51       0.00      0.00      0.00         1\n",
      "       97.52       0.00      0.00      0.00         1\n",
      "       97.55       0.00      0.00      0.00         0\n",
      "       97.62       0.00      0.00      0.00         0\n",
      "       97.72       0.00      0.00      0.00         1\n",
      "       97.74       0.00      0.00      0.00         0\n",
      "       97.75       0.00      0.00      0.00         1\n",
      "       97.76       0.00      0.00      0.00         1\n",
      "       97.78       0.00      0.00      0.00         0\n",
      "       97.87       0.00      0.00      0.00         0\n",
      "       97.88       0.00      0.00      0.00         1\n",
      "        97.9       0.00      0.00      0.00         1\n",
      "       97.91       0.00      0.00      0.00         0\n",
      "       97.94       0.00      0.00      0.00         1\n",
      "       97.96       0.00      0.00      0.00         0\n",
      "        98.2       0.00      0.00      0.00         0\n",
      "       98.21       0.00      0.00      0.00         2\n",
      "       98.22       0.00      0.00      0.00         1\n",
      "       98.24       0.00      0.00      0.00         0\n",
      "       98.42       0.00      0.00      0.00         1\n",
      "       98.48       0.00      0.00      0.00         0\n",
      "       98.49       0.00      0.00      0.00         1\n",
      "       98.57       0.00      0.00      0.00         1\n",
      "       98.59       0.00      0.00      0.00         0\n",
      "       98.65       0.00      0.00      0.00         0\n",
      "       98.75       1.00      1.00      1.00         2\n",
      "       98.76       0.00      0.00      0.00         0\n",
      "       98.78       0.00      0.00      0.00         1\n",
      "       98.79       0.00      0.00      0.00         1\n",
      "       98.81       0.00      0.00      0.00         1\n",
      "       98.82       0.00      0.00      0.00         0\n",
      "       98.83       0.00      0.00      0.00         1\n",
      "       98.84       0.00      0.00      0.00         1\n",
      "       98.85       0.00      0.00      0.00         0\n",
      "       98.97       0.00      0.00      0.00         0\n",
      "        99.0       0.00      0.00      0.00         2\n",
      "       99.03       0.00      0.00      0.00         1\n",
      "       99.08       0.00      0.00      0.00         1\n",
      "       99.11       0.00      0.00      0.00         0\n",
      "       99.12       0.00      0.00      0.00         1\n",
      "       99.13       0.00      0.00      0.00         0\n",
      "       99.15       0.00      0.00      0.00         0\n",
      "       99.16       0.00      0.00      0.00         1\n",
      "       99.17       0.00      0.00      0.00         3\n",
      "        99.2       0.00      0.00      0.00         1\n",
      "       99.21       0.00      0.00      0.00         0\n",
      "       99.22       0.00      0.00      0.00         2\n",
      "       99.23       0.00      0.00      0.00         0\n",
      "       99.29       0.00      0.00      0.00         0\n",
      "        99.4       0.00      0.00      0.00         1\n",
      "       99.54       0.00      0.00      0.00         0\n",
      "        99.6       0.00      0.00      0.00         1\n",
      "       99.64       0.00      0.00      0.00         1\n",
      "       99.69       0.00      0.00      0.00         0\n",
      "       99.74       0.00      0.00      0.00         1\n",
      "       99.79       0.00      0.00      0.00         1\n",
      "        99.8       0.00      0.00      0.00         0\n",
      "\n",
      "    accuracy                           0.03        63\n",
      "   macro avg       0.01      0.01      0.01        63\n",
      "weighted avg       0.03      0.03      0.03        63\n",
      "\n"
     ]
    },
    {
     "name": "stderr",
     "output_type": "stream",
     "text": [
      "D:\\apps\\anaconda3\\lib\\site-packages\\sklearn\\metrics\\_classification.py:1318: UndefinedMetricWarning: Precision and F-score are ill-defined and being set to 0.0 in labels with no predicted samples. Use `zero_division` parameter to control this behavior.\n",
      "  _warn_prf(average, modifier, msg_start, len(result))\n",
      "D:\\apps\\anaconda3\\lib\\site-packages\\sklearn\\metrics\\_classification.py:1318: UndefinedMetricWarning: Recall and F-score are ill-defined and being set to 0.0 in labels with no true samples. Use `zero_division` parameter to control this behavior.\n",
      "  _warn_prf(average, modifier, msg_start, len(result))\n",
      "D:\\apps\\anaconda3\\lib\\site-packages\\sklearn\\metrics\\_classification.py:1318: UndefinedMetricWarning: Precision and F-score are ill-defined and being set to 0.0 in labels with no predicted samples. Use `zero_division` parameter to control this behavior.\n",
      "  _warn_prf(average, modifier, msg_start, len(result))\n",
      "D:\\apps\\anaconda3\\lib\\site-packages\\sklearn\\metrics\\_classification.py:1318: UndefinedMetricWarning: Recall and F-score are ill-defined and being set to 0.0 in labels with no true samples. Use `zero_division` parameter to control this behavior.\n",
      "  _warn_prf(average, modifier, msg_start, len(result))\n",
      "D:\\apps\\anaconda3\\lib\\site-packages\\sklearn\\metrics\\_classification.py:1318: UndefinedMetricWarning: Precision and F-score are ill-defined and being set to 0.0 in labels with no predicted samples. Use `zero_division` parameter to control this behavior.\n",
      "  _warn_prf(average, modifier, msg_start, len(result))\n",
      "D:\\apps\\anaconda3\\lib\\site-packages\\sklearn\\metrics\\_classification.py:1318: UndefinedMetricWarning: Recall and F-score are ill-defined and being set to 0.0 in labels with no true samples. Use `zero_division` parameter to control this behavior.\n",
      "  _warn_prf(average, modifier, msg_start, len(result))\n"
     ]
    }
   ],
   "source": [
    "clf = RandomForestClassifier(n_estimators=50, random_state=123)\n",
    "clf.fit(X_train, Y_train)\n",
    "Y_pred = clf.predict(X_test)\n",
    "acc = accuracy_score(Y_test, Y_pred)\n",
    "print(\"Akurasi {}\".format(acc))\n",
    "print(classification_report(Y_test, Y_pred))"
   ]
  },
  {
   "cell_type": "markdown",
   "id": "18fb1ed2",
   "metadata": {},
   "source": [
    "Dapat dilihat bahwa akurasinya buruk"
   ]
  },
  {
   "cell_type": "markdown",
   "id": "8f73d267",
   "metadata": {},
   "source": [
    "### XGBOOST"
   ]
  },
  {
   "cell_type": "code",
   "execution_count": 26,
   "id": "bd5f67ea",
   "metadata": {},
   "outputs": [
    {
     "name": "stderr",
     "output_type": "stream",
     "text": [
      "D:\\apps\\anaconda3\\lib\\site-packages\\xgboost\\compat.py:36: FutureWarning: pandas.Int64Index is deprecated and will be removed from pandas in a future version. Use pandas.Index with the appropriate dtype instead.\n",
      "  from pandas import MultiIndex, Int64Index\n"
     ]
    }
   ],
   "source": [
    "#import library\n",
    "import xgboost as xgb"
   ]
  }
 ],
 "metadata": {
  "kernelspec": {
   "display_name": "Python 3 (ipykernel)",
   "language": "python",
   "name": "python3"
  },
  "language_info": {
   "codemirror_mode": {
    "name": "ipython",
    "version": 3
   },
   "file_extension": ".py",
   "mimetype": "text/x-python",
   "name": "python",
   "nbconvert_exporter": "python",
   "pygments_lexer": "ipython3",
   "version": "3.9.12"
  }
 },
 "nbformat": 4,
 "nbformat_minor": 5
}
